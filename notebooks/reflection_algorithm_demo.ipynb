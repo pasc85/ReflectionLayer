{
 "cells": [
  {
   "cell_type": "markdown",
   "metadata": {},
   "source": [
    "This NB follows through the reflection algorithm in the reflection layer."
   ]
  },
  {
   "cell_type": "code",
   "execution_count": null,
   "metadata": {
    "ExecuteTime": {
     "end_time": "2020-05-07T18:43:03.743155Z",
     "start_time": "2020-05-07T18:43:03.666527Z"
    }
   },
   "outputs": [],
   "source": [
    "import numpy as np\n",
    "import tensorflow as tf"
   ]
  },
  {
   "cell_type": "markdown",
   "metadata": {},
   "source": [
    "# Shapes\n",
    "\n",
    "Go through the algorithm with dummy data to check broadcasting, shapes, etc.. Compare to <code>src/reflection_layer.py</code>.\n",
    "\n",
    "## Prepare dummy data"
   ]
  },
  {
   "cell_type": "code",
   "execution_count": null,
   "metadata": {},
   "outputs": [],
   "source": [
    "# set up array (aka tensor) shapes for experiments\n",
    "data_shape = (50, 8, 8, 3)  # shape of the full data set\n",
    "sample_shape = data_shape[1:]  # shape of a single sample"
   ]
  },
  {
   "cell_type": "code",
   "execution_count": null,
   "metadata": {},
   "outputs": [],
   "source": [
    "# define reflector (ie kernel)\n",
    "reflector = np.random.rand(*sample_shape)\n",
    "print(reflector.shape)"
   ]
  },
  {
   "cell_type": "code",
   "execution_count": null,
   "metadata": {},
   "outputs": [],
   "source": [
    "# define data\n",
    "x = np.random.rand(*data_shape)\n",
    "print(x.shape)"
   ]
  },
  {
   "cell_type": "markdown",
   "metadata": {},
   "source": [
    "## Steps of the algorithm"
   ]
  },
  {
   "cell_type": "code",
   "execution_count": null,
   "metadata": {},
   "outputs": [],
   "source": [
    "# elementwise product of reflector and data (careful: broadcasting!)\n",
    "ewp = tf.multiply(x,reflector) \n",
    "ewp.shape"
   ]
  },
  {
   "cell_type": "code",
   "execution_count": null,
   "metadata": {},
   "outputs": [],
   "source": [
    "# reduce sum of ewp gives vector of scalar products: samples dot reflector\n",
    "scalars = tf.reduce_sum(ewp, axis=tuple(range(1, len(x.shape))), keepdims=True)\n",
    "scalars.shape"
   ]
  },
  {
   "cell_type": "code",
   "execution_count": null,
   "metadata": {},
   "outputs": [],
   "source": [
    "# expand dimensions of reflector kernel so that it can be multiplied with scalars\n",
    "expanded_reflector = tf.expand_dims(reflector, 0)\n",
    "expanded_reflector.shape"
   ]
  },
  {
   "cell_type": "code",
   "execution_count": null,
   "metadata": {},
   "outputs": [],
   "source": [
    "# (broadcasting!)\n",
    "temp = np.multiply(expanded_reflector, scalars)\n",
    "temp.shape"
   ]
  },
  {
   "cell_type": "code",
   "execution_count": null,
   "metadata": {},
   "outputs": [],
   "source": [
    "# final output: reflection of data x across the orthogonal complement of reflector\n",
    "output = (2/ tf.reduce_sum(tf.multiply(reflector, reflector))) * temp - x\n",
    "output.shape"
   ]
  },
  {
   "cell_type": "markdown",
   "metadata": {},
   "source": [
    "# Explicit example\n",
    "\n",
    "Check for an explicit example that the algorithm does the right thing.\n",
    "\n",
    "## Function"
   ]
  },
  {
   "cell_type": "code",
   "execution_count": null,
   "metadata": {},
   "outputs": [],
   "source": [
    "def reflect(x, reflector):\n",
    "    # elementwise product of reflector and data (careful: broadcasting!)\n",
    "    ewp = tf.multiply(x,reflector) \n",
    "    # reduce sum of ewp gives vector of scalar products: samples dot reflector\n",
    "    scalars = tf.reduce_sum(ewp, axis=tuple(range(1, len(x.shape))), keepdims=True)\n",
    "    # expand dimensions of reflector kernel so that it can be multiplied with scalars\n",
    "    expanded_reflector = tf.expand_dims(reflector, 0)\n",
    "    # (broadcasting!)\n",
    "    temp = np.multiply(expanded_reflector, scalars)\n",
    "    # final output: reflection of data x across the orthogonal complement of reflector\n",
    "    return (2 / tf.reduce_sum(tf.multiply(reflector, reflector))) * temp - x"
   ]
  },
  {
   "cell_type": "markdown",
   "metadata": {},
   "source": [
    "## Data"
   ]
  },
  {
   "cell_type": "code",
   "execution_count": null,
   "metadata": {},
   "outputs": [],
   "source": [
    "reflector=tf.convert_to_tensor(np.array([1,0,0]), dtype=tf.float32)\n",
    "x = tf.convert_to_tensor(np.array([[1,0,0],[0,1,0],[0,0,1],[1,1,1]]), dtype=tf.float32)"
   ]
  },
  {
   "cell_type": "markdown",
   "metadata": {},
   "source": [
    "## Result"
   ]
  },
  {
   "cell_type": "code",
   "execution_count": null,
   "metadata": {},
   "outputs": [],
   "source": [
    "with tf.Session() as sess:\n",
    "    print('As the reflection of')\n",
    "    print(x.eval())\n",
    "    print('across the orthogonal complement of')\n",
    "    print(reflector.eval())\n",
    "    print('(followed by an overall multiplication by -1) the algorithm obtains')\n",
    "    print(reflect(x, reflector).eval())\n",
    "    print(\"\\nYep, that's what it should be.\")"
   ]
  },
  {
   "cell_type": "code",
   "execution_count": null,
   "metadata": {},
   "outputs": [],
   "source": []
  }
 ],
 "metadata": {
  "kernelspec": {
   "display_name": "Python 3",
   "language": "python",
   "name": "python3"
  },
  "language_info": {
   "codemirror_mode": {
    "name": "ipython",
    "version": 3
   },
   "file_extension": ".py",
   "mimetype": "text/x-python",
   "name": "python",
   "nbconvert_exporter": "python",
   "pygments_lexer": "ipython3",
   "version": "3.8.2"
  },
  "varInspector": {
   "cols": {
    "lenName": 16,
    "lenType": 16,
    "lenVar": 40
   },
   "kernels_config": {
    "python": {
     "delete_cmd_postfix": "",
     "delete_cmd_prefix": "del ",
     "library": "var_list.py",
     "varRefreshCmd": "print(var_dic_list())"
    },
    "r": {
     "delete_cmd_postfix": ") ",
     "delete_cmd_prefix": "rm(",
     "library": "var_list.r",
     "varRefreshCmd": "cat(var_dic_list()) "
    }
   },
   "types_to_exclude": [
    "module",
    "function",
    "builtin_function_or_method",
    "instance",
    "_Feature"
   ],
   "window_display": false
  }
 },
 "nbformat": 4,
 "nbformat_minor": 4
}
