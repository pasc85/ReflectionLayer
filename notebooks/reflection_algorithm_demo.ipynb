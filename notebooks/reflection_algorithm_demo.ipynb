{
 "cells": [
  {
   "cell_type": "markdown",
   "metadata": {},
   "source": [
    "This NB goes through the reflection algorithm in the reflection layer."
   ]
  },
  {
   "cell_type": "code",
   "execution_count": null,
   "metadata": {
    "ExecuteTime": {
     "end_time": "2020-05-07T21:58:12.069167Z",
     "start_time": "2020-05-07T21:58:09.985047Z"
    }
   },
   "outputs": [],
   "source": [
    "import numpy as np\n",
    "import tensorflow as tf"
   ]
  },
  {
   "cell_type": "markdown",
   "metadata": {},
   "source": [
    "# Check tensor shapes\n",
    "\n",
    "Go through the algorithm with some dummy data to check broadcasting, shapes, etc.. Compare to <code>src/reflection_layer.py</code>.\n",
    "\n",
    "## Prepare dummy data"
   ]
  },
  {
   "cell_type": "code",
   "execution_count": null,
   "metadata": {
    "ExecuteTime": {
     "end_time": "2020-05-07T21:58:12.077629Z",
     "start_time": "2020-05-07T21:58:12.071382Z"
    }
   },
   "outputs": [],
   "source": [
    "# set up array (tensor) shapes for experiments\n",
    "data_shape = (50, 8, 8, 3)  # shape of the full data set; e.g.: 50 8x8 RGB images \n",
    "sample_shape = data_shape[1:]  # shape of a single sample\n",
    "print('Sample shape:', sample_shape)"
   ]
  },
  {
   "cell_type": "code",
   "execution_count": null,
   "metadata": {
    "ExecuteTime": {
     "end_time": "2020-05-07T21:58:12.254538Z",
     "start_time": "2020-05-07T21:58:12.082572Z"
    }
   },
   "outputs": [],
   "source": [
    "# define reflector (ie kernel)\n",
    "reflector = np.random.rand(*sample_shape)\n",
    "print('Reflector shape:', reflector.shape)"
   ]
  },
  {
   "cell_type": "code",
   "execution_count": null,
   "metadata": {
    "ExecuteTime": {
     "end_time": "2020-05-07T21:58:12.356056Z",
     "start_time": "2020-05-07T21:58:12.256540Z"
    }
   },
   "outputs": [],
   "source": [
    "# define data\n",
    "x = np.random.rand(*data_shape)\n",
    "print('Data shape:', x.shape)"
   ]
  },
  {
   "cell_type": "markdown",
   "metadata": {},
   "source": [
    "## Steps of the algorithm"
   ]
  },
  {
   "cell_type": "code",
   "execution_count": null,
   "metadata": {
    "ExecuteTime": {
     "end_time": "2020-05-07T21:58:12.486154Z",
     "start_time": "2020-05-07T21:58:12.357979Z"
    }
   },
   "outputs": [],
   "source": [
    "# elementwise product of reflector and data (careful: broadcasting!)\n",
    "ewp = tf.multiply(x,reflector) \n",
    "ewp.shape"
   ]
  },
  {
   "cell_type": "code",
   "execution_count": null,
   "metadata": {
    "ExecuteTime": {
     "end_time": "2020-05-07T21:58:12.576423Z",
     "start_time": "2020-05-07T21:58:12.491178Z"
    }
   },
   "outputs": [],
   "source": [
    "# reduce sum of ewp gives vector of scalar products: samples dot reflector\n",
    "scalars = tf.reduce_sum(ewp, axis=tuple(range(1, len(x.shape))), keepdims=True)\n",
    "scalars.shape"
   ]
  },
  {
   "cell_type": "code",
   "execution_count": null,
   "metadata": {
    "ExecuteTime": {
     "end_time": "2020-05-07T21:58:12.688852Z",
     "start_time": "2020-05-07T21:58:12.580294Z"
    }
   },
   "outputs": [],
   "source": [
    "# expand dimensions of reflector kernel so that it can be multiplied with scalars\n",
    "expanded_reflector = tf.expand_dims(reflector, 0)\n",
    "expanded_reflector.shape"
   ]
  },
  {
   "cell_type": "code",
   "execution_count": null,
   "metadata": {
    "ExecuteTime": {
     "end_time": "2020-05-07T21:58:12.788928Z",
     "start_time": "2020-05-07T21:58:12.691840Z"
    }
   },
   "outputs": [],
   "source": [
    "# the outpusts of the last two cells can be multiplied (broadcasting!)\n",
    "prod = tf.multiply(expanded_reflector, scalars)\n",
    "prod.shape"
   ]
  },
  {
   "cell_type": "code",
   "execution_count": null,
   "metadata": {
    "ExecuteTime": {
     "end_time": "2020-05-07T21:58:12.922480Z",
     "start_time": "2020-05-07T21:58:12.792814Z"
    }
   },
   "outputs": [],
   "source": [
    "# final output: reflection of data x across the orthogonal complement of reflector\n",
    "output = (2/ tf.reduce_sum(tf.multiply(reflector, reflector))) * prod - x\n",
    "output.shape"
   ]
  },
  {
   "cell_type": "markdown",
   "metadata": {},
   "source": [
    "# Explicit example\n",
    "\n",
    "Check for an explicit example that the algorithm does the right thing.\n",
    "\n",
    "## Function"
   ]
  },
  {
   "cell_type": "code",
   "execution_count": null,
   "metadata": {
    "ExecuteTime": {
     "end_time": "2020-05-07T21:58:13.007263Z",
     "start_time": "2020-05-07T21:58:12.924346Z"
    }
   },
   "outputs": [],
   "source": [
    "def reflect(x, reflector):\n",
    "    # elementwise product of reflector and data (careful: broadcasting!)\n",
    "    ewp = tf.multiply(x,reflector)\n",
    "    # reduce sum of ewp gives vector of scalar products: samples dot reflector\n",
    "    scalars = tf.reduce_sum(ewp, axis=tuple(range(1, len(x.shape))), keepdims=True)\n",
    "    # expand dimensions of reflector kernel so that it can be multiplied with scalars\n",
    "    expanded_reflector = tf.expand_dims(reflector, 0)\n",
    "    # the outpusts of the last two cells can be multiplied (broadcasting!)\n",
    "    prod = np.multiply(expanded_reflector, scalars)\n",
    "    # final output: reflection of data x across the orthogonal complement of reflector\n",
    "    return (2/ tf.reduce_sum(tf.multiply(reflector, reflector))) * prod - x"
   ]
  },
  {
   "cell_type": "markdown",
   "metadata": {},
   "source": [
    "## Define reflector and data\n",
    "\n",
    "For an explicit example, let's look at the simple case where each sample has shape <code>(3,)</code> i.e. is an vector in R3. As the kernel/weights/reflector, let's use <code>[1,0,0]</code> -- the unit vector along the x-axis. Its orthogonal complement (the set of vectors that are orthogonal to it) is the yz-plane. Reflecting a vector <code>(a,b,c)</code> across that plane gives <code>(-a,b,c)</code>. In the implementation of the reflection layer, this is followed by an overall multiplication by -1. We end up with <code>(a,-b,-c)</code>. Check in the output below that this is indeep what the code produces."
   ]
  },
  {
   "cell_type": "code",
   "execution_count": null,
   "metadata": {
    "ExecuteTime": {
     "end_time": "2020-05-07T21:58:13.144819Z",
     "start_time": "2020-05-07T21:58:13.008924Z"
    }
   },
   "outputs": [],
   "source": [
    "reflector_tf = tf.convert_to_tensor(np.array([1,0,0]), dtype=tf.float32)\n",
    "x_tf = tf.convert_to_tensor(np.array([[1,0,0],[0,1,0],[0,0,1],[1,1,1]]), dtype=tf.float32)"
   ]
  },
  {
   "cell_type": "markdown",
   "metadata": {},
   "source": [
    "## Result"
   ]
  },
  {
   "cell_type": "code",
   "execution_count": null,
   "metadata": {
    "ExecuteTime": {
     "end_time": "2020-05-07T21:58:13.266733Z",
     "start_time": "2020-05-07T21:58:13.146546Z"
    }
   },
   "outputs": [],
   "source": [
    "print('\\nAs the reflection of\\n')\n",
    "print(x_tf)\n",
    "print('\\nacross the orthogonal complement of\\n')\n",
    "print(reflector_tf)\n",
    "print('\\n(followed by an overall multiplication by -1),')\n",
    "print('the algorithm obtains\\n')\n",
    "print(reflect(x_tf, reflector_tf))"
   ]
  },
  {
   "cell_type": "code",
   "execution_count": null,
   "metadata": {},
   "outputs": [],
   "source": []
  }
 ],
 "metadata": {
  "kernelspec": {
   "display_name": "Python 3",
   "language": "python",
   "name": "python3"
  },
  "language_info": {
   "codemirror_mode": {
    "name": "ipython",
    "version": 3
   },
   "file_extension": ".py",
   "mimetype": "text/x-python",
   "name": "python",
   "nbconvert_exporter": "python",
   "pygments_lexer": "ipython3",
   "version": "3.7.7"
  },
  "varInspector": {
   "cols": {
    "lenName": 16,
    "lenType": 16,
    "lenVar": 40
   },
   "kernels_config": {
    "python": {
     "delete_cmd_postfix": "",
     "delete_cmd_prefix": "del ",
     "library": "var_list.py",
     "varRefreshCmd": "print(var_dic_list())"
    },
    "r": {
     "delete_cmd_postfix": ") ",
     "delete_cmd_prefix": "rm(",
     "library": "var_list.r",
     "varRefreshCmd": "cat(var_dic_list()) "
    }
   },
   "types_to_exclude": [
    "module",
    "function",
    "builtin_function_or_method",
    "instance",
    "_Feature"
   ],
   "window_display": false
  }
 },
 "nbformat": 4,
 "nbformat_minor": 4
}
