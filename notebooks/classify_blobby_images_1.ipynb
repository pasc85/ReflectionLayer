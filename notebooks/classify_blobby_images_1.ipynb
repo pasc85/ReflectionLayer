{
 "cells": [
  {
   "cell_type": "markdown",
   "metadata": {},
   "source": [
    "THIS IS ONLY A FIRST DRAFT VERSION -- IT IS NOT TUNED AND CHECKED YET!\n",
    "\n",
    "To do:\n",
    "- simplify maxpooling and flattening\n",
    "- more tuning, improve performance for low alpha\n",
    "- perhaps try different initializer\n",
    "- visualize reflection weights"
   ]
  },
  {
   "cell_type": "code",
   "execution_count": null,
   "metadata": {
    "ExecuteTime": {
     "end_time": "2020-05-13T21:56:13.764212Z",
     "start_time": "2020-05-13T21:56:11.841334Z"
    }
   },
   "outputs": [],
   "source": [
    "import sys\n",
    "sys.path.append('../src/')\n",
    "\n",
    "import matplotlib.pyplot as plt\n",
    "%matplotlib inline\n",
    "\n",
    "import keras\n",
    "from keras.layers import MaxPooling2D, Dense, Flatten\n",
    "\n",
    "import utils\n",
    "import reflection_layer as RL"
   ]
  },
  {
   "cell_type": "code",
   "execution_count": null,
   "metadata": {
    "ExecuteTime": {
     "end_time": "2020-05-13T21:56:13.773136Z",
     "start_time": "2020-05-13T21:56:13.766201Z"
    }
   },
   "outputs": [],
   "source": [
    "sample_settings = {'add_blob': None,\n",
    "                   'alpha': 0.5,\n",
    "                   'image_size': 32,\n",
    "                   'noise_mean' : 1,\n",
    "                   'noise_std' : 0.1,\n",
    "                   'blob_size': 16, \n",
    "                   'blob_fill_value': 0,\n",
    "                   'blob_mean': 0,    \n",
    "                   'blob_delta': 1}"
   ]
  },
  {
   "cell_type": "code",
   "execution_count": null,
   "metadata": {
    "ExecuteTime": {
     "end_time": "2020-05-13T21:56:13.966813Z",
     "start_time": "2020-05-13T21:56:13.775960Z"
    }
   },
   "outputs": [],
   "source": [
    "# set up a non-sequential NN\n",
    "im_size = sample_settings['image_size']\n",
    "inp = keras.layers.Input(shape=(im_size, im_size, 1))\n",
    "r1 = RL.ReflectionLayer()(inp)\n",
    "m1 = MaxPooling2D(pool_size=(im_size, im_size))(r1)\n",
    "r2 = RL.ReflectionLayer()(inp)\n",
    "m2 = MaxPooling2D(pool_size=(im_size, im_size))(r2)\n",
    "ma = keras.layers.Maximum()([m1,m2])\n",
    "fl = Flatten()(ma)\n",
    "out = Dense(1, activation=\"sigmoid\")(fl)\n",
    "model = keras.models.Model(inputs=inp, outputs=out)\n",
    "model.summary()"
   ]
  },
  {
   "cell_type": "code",
   "execution_count": null,
   "metadata": {
    "ExecuteTime": {
     "end_time": "2020-05-13T21:56:14.014678Z",
     "start_time": "2020-05-13T21:56:13.969145Z"
    }
   },
   "outputs": [],
   "source": [
    "# define generators for training and validation data\n",
    "train_gen = utils.yield_samples(128, **sample_settings)\n",
    "valid_gen = utils.yield_samples(16, **sample_settings)"
   ]
  },
  {
   "cell_type": "code",
   "execution_count": null,
   "metadata": {
    "ExecuteTime": {
     "end_time": "2020-05-13T21:56:20.669129Z",
     "start_time": "2020-05-13T21:56:14.016306Z"
    }
   },
   "outputs": [],
   "source": [
    "# train model\n",
    "model.compile(optimizer=keras.optimizers.Adam(),\n",
    "              loss=\"binary_crossentropy\",\n",
    "              metrics=[\"accuracy\"])\n",
    "training_history = model.fit_generator(train_gen,\n",
    "                                       steps_per_epoch=1,\n",
    "                                       validation_data=valid_gen,\n",
    "                                       validation_steps=1,\n",
    "                                       epochs=100)"
   ]
  },
  {
   "cell_type": "code",
   "execution_count": null,
   "metadata": {
    "ExecuteTime": {
     "end_time": "2020-05-13T21:56:21.034115Z",
     "start_time": "2020-05-13T21:56:20.671492Z"
    }
   },
   "outputs": [],
   "source": [
    "# plot change of accuracy during training\n",
    "keys = ['val_accuracy', 'accuracy']\n",
    "for k in keys:\n",
    "    plt.plot(training_history.history[k])\n",
    "plt.xlabel('Epoch')\n",
    "plt.legend(keys, loc='lower left')\n",
    "plt.show()"
   ]
  }
 ],
 "metadata": {
  "kernelspec": {
   "display_name": "Python 3",
   "language": "python",
   "name": "python3"
  },
  "language_info": {
   "codemirror_mode": {
    "name": "ipython",
    "version": 3
   },
   "file_extension": ".py",
   "mimetype": "text/x-python",
   "name": "python",
   "nbconvert_exporter": "python",
   "pygments_lexer": "ipython3",
   "version": "3.7.7"
  },
  "varInspector": {
   "cols": {
    "lenName": 16,
    "lenType": 16,
    "lenVar": 40
   },
   "kernels_config": {
    "python": {
     "delete_cmd_postfix": "",
     "delete_cmd_prefix": "del ",
     "library": "var_list.py",
     "varRefreshCmd": "print(var_dic_list())"
    },
    "r": {
     "delete_cmd_postfix": ") ",
     "delete_cmd_prefix": "rm(",
     "library": "var_list.r",
     "varRefreshCmd": "cat(var_dic_list()) "
    }
   },
   "types_to_exclude": [
    "module",
    "function",
    "builtin_function_or_method",
    "instance",
    "_Feature"
   ],
   "window_display": false
  }
 },
 "nbformat": 4,
 "nbformat_minor": 4
}
