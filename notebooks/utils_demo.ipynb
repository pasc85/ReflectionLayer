{
 "cells": [
  {
   "cell_type": "markdown",
   "metadata": {},
   "source": [
    "This NB shows the images that the ML aims to classify. There are images without a *blob* (just random noise, normally distributed; class 0) and with a *blob* (in a window of the image, a pattern is added to the noise; class 1). The parameter <code>alpha</code> controls the weighting between the noise and the blob. Making it very small, it becomes more difficult to distinguish class 0 images from class 1 images: run the full notebook and rerun the cell with the plot, comparing to the label printed right above it. Then decrease <code>alpha</code> to <code>0.1</code> and try again."
   ]
  },
  {
   "cell_type": "code",
   "execution_count": null,
   "metadata": {
    "ExecuteTime": {
     "end_time": "2020-05-13T21:58:33.902301Z",
     "start_time": "2020-05-13T21:58:33.612977Z"
    }
   },
   "outputs": [],
   "source": [
    "import sys\n",
    "import numpy as np\n",
    "import matplotlib.pyplot as plt\n",
    "\n",
    "sys.path.append('../src')\n",
    "import utils\n",
    "\n",
    "print(utils.yield_samples.__doc__)"
   ]
  },
  {
   "cell_type": "code",
   "execution_count": null,
   "metadata": {
    "ExecuteTime": {
     "end_time": "2020-05-13T21:58:33.907896Z",
     "start_time": "2020-05-13T21:58:33.904489Z"
    }
   },
   "outputs": [],
   "source": [
    "sample_settings = {'add_blob': None,\n",
    "                   'alpha': 0.2,\n",
    "                   'image_size': 32,\n",
    "                   'noise_mean' : 1,\n",
    "                   'noise_std' : 0.1,\n",
    "                   'blob_size': 16, \n",
    "                   'blob_fill_value': 0,\n",
    "                   'blob_mean': 0,    \n",
    "                   'blob_delta': 1}"
   ]
  },
  {
   "cell_type": "code",
   "execution_count": null,
   "metadata": {
    "ExecuteTime": {
     "end_time": "2020-05-13T21:58:34.004053Z",
     "start_time": "2020-05-13T21:58:33.910067Z"
    }
   },
   "outputs": [],
   "source": [
    "gen = utils.yield_samples(100, **sample_settings)"
   ]
  },
  {
   "cell_type": "code",
   "execution_count": null,
   "metadata": {
    "ExecuteTime": {
     "end_time": "2020-05-13T21:58:34.474701Z",
     "start_time": "2020-05-13T21:58:34.006402Z"
    }
   },
   "outputs": [],
   "source": [
    "X, y = next(gen)\n",
    "print('Shape data  :', X.shape)\n",
    "print('Shape labels:', y.shape)\n",
    "print('\\nLabel first sample:', y[0][0])\n",
    "plt.imshow(X[0,:,:,0]);\n",
    "plt.title('Data first sample')\n",
    "plt.colorbar();"
   ]
  },
  {
   "cell_type": "code",
   "execution_count": null,
   "metadata": {
    "ExecuteTime": {
     "end_time": "2020-05-13T21:58:34.487114Z",
     "start_time": "2020-05-13T21:58:34.476581Z"
    }
   },
   "outputs": [],
   "source": [
    "overall_mean = np.mean(X)\n",
    "print('Overall mean:', overall_mean)\n",
    "if sample_settings['add_blob'] is None and y.shape[0]>10:\n",
    "    pos_mean = np.mean(X[np.squeeze(y)==1,:,:,0])\n",
    "    neg_mean = np.mean(X[np.squeeze(y)==0,:,:,0])\n",
    "    print('Mean positives:', pos_mean)\n",
    "    print('Mean negatives:', neg_mean)"
   ]
  },
  {
   "cell_type": "code",
   "execution_count": null,
   "metadata": {},
   "outputs": [],
   "source": []
  }
 ],
 "metadata": {
  "kernelspec": {
   "display_name": "Python 3",
   "language": "python",
   "name": "python3"
  },
  "language_info": {
   "codemirror_mode": {
    "name": "ipython",
    "version": 3
   },
   "file_extension": ".py",
   "mimetype": "text/x-python",
   "name": "python",
   "nbconvert_exporter": "python",
   "pygments_lexer": "ipython3",
   "version": "3.7.7"
  },
  "varInspector": {
   "cols": {
    "lenName": 16,
    "lenType": 16,
    "lenVar": 40
   },
   "kernels_config": {
    "python": {
     "delete_cmd_postfix": "",
     "delete_cmd_prefix": "del ",
     "library": "var_list.py",
     "varRefreshCmd": "print(var_dic_list())"
    },
    "r": {
     "delete_cmd_postfix": ") ",
     "delete_cmd_prefix": "rm(",
     "library": "var_list.r",
     "varRefreshCmd": "cat(var_dic_list()) "
    }
   },
   "types_to_exclude": [
    "module",
    "function",
    "builtin_function_or_method",
    "instance",
    "_Feature"
   ],
   "window_display": false
  }
 },
 "nbformat": 4,
 "nbformat_minor": 4
}
